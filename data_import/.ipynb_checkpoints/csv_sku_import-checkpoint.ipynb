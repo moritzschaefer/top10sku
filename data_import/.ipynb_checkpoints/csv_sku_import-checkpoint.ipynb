{
 "metadata": {
  "name": "",
  "signature": "sha256:8facb5f3b7d30e13e61d0747d29bf6463c0b758140bb744ac25117d3854ff8bd"
 },
 "nbformat": 3,
 "nbformat_minor": 0,
 "worksheets": []
}