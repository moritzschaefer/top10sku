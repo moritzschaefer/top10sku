{
 "metadata": {
  "name": "",
  "signature": "sha256:b4396f7e943b45a0402e490c9290518e0733bdfb58750e6d15868becc38379e5"
 },
 "nbformat": 3,
 "nbformat_minor": 0,
 "worksheets": [
  {
   "cells": [
    {
     "cell_type": "code",
     "collapsed": false,
     "input": [
      "#!/usr/bin/env python3\n",
      "\n",
      "import argparse\n",
      "import pandas as pd\n",
      "import pymongo\n",
      "from bson import ObjectId\n",
      "import numpy as np\n",
      "import time\n",
      "import datetime\n",
      "\n",
      "# first  do arguments\n",
      "parser = argparse.ArgumentParser(description='Import CSV file to MongoDB')\n",
      "parser.add_argument('inputfile', type=str, nargs=1, help='the csv file to import')\n",
      "parser.add_argument('--mongodb', type=str, default='mongodb://localhost/', help='URI string for the MongoDB connection')\n",
      "parser.add_argument('--separator', type=str, help='The separator in the CSV file', default=';')\n",
      "# TODO: add separator\n",
      "args = parser.parse_args(['date_data.csv', '--separator', ','])"
     ],
     "language": "python",
     "metadata": {},
     "outputs": [],
     "prompt_number": 2
    },
    {
     "cell_type": "code",
     "collapsed": false,
     "input": [
      "# structure:\n",
      "\n",
      "\n",
      "#category: {\n",
      "#    revenue:\n",
      "#    name:\n",
      "#    subCategories: [{},{},{}]\n",
      " #   _id:\n",
      "#}\n",
      "    \n",
      "#skus: {\n",
      "#    name:\n",
      "#    revenue:\n",
      "#    _id:\n",
      "#    info:\n",
      "    \n",
      "    \n",
      "#}\n",
      "\n",
      "\n",
      "\n",
      "\n",
      "mongo_client = pymongo.MongoClient(args.mongodb)\n",
      "db = mongo_client['top10-dev']\n",
      "\n",
      "\n",
      "\n",
      "df = pd.read_csv(args.inputfile[0], sep=args.separator)"
     ],
     "language": "python",
     "metadata": {},
     "outputs": [],
     "prompt_number": 3
    },
    {
     "cell_type": "code",
     "collapsed": false,
     "input": [
      "# delete all\n",
      "if True:\n",
      "    db.categories.remove()\n",
      "    db.skus.remove()"
     ],
     "language": "python",
     "metadata": {},
     "outputs": [],
     "prompt_number": 4
    },
    {
     "cell_type": "code",
     "collapsed": false,
     "input": [
      "# insert categories\n",
      "cats = df[['CAT_1', 'CAT_2']].drop_duplicates()\n",
      "for key, group in cats.groupby(by='CAT_1'):\n",
      "    # TODO add key to CAT1\n",
      "\n",
      "    sub_categories = [{'name': sub_category, 'revenue': 0.0, '_id': ObjectId()} for sub_category in group.CAT_2]\n",
      "    db.categories.insert({'revenue': 0.0, 'name': key, 'sub_categories': sub_categories})\n",
      "\n",
      "    "
     ],
     "language": "python",
     "metadata": {},
     "outputs": [],
     "prompt_number": 5
    },
    {
     "cell_type": "code",
     "collapsed": false,
     "input": [
      "# TODO: issue: \n",
      "y=None\n",
      "def add_skus(df):\n",
      "    # group by product_sku and insert values\n",
      "\n",
      "    weekly_fields = [\n",
      "        'SHIPPED_ITEM',\n",
      "        'SHIPPED_ITEM_BEF_REJECTION',\n",
      "        'GRS_REVENUE',\n",
      "        'GRS_REVENUE_BEF_REJECTION',\n",
      "        'GRS_REVENUE_BEF_CANCELLATION',\n",
      "        'PAGE_VIEWS',\n",
      "        'VISITORS',\n",
      "        'IMPRESSIONS',\n",
      "        'CLICS',\n",
      "        'STOCK_END_WEEK',\n",
      "        'STOCK_START_WEEK',\n",
      "        'SALES_ALL',\n",
      "        'MODELED_SALES',\n",
      "        'WEEK']\n",
      "    non_weekly_fields = list(set(df.columns)-set(weekly_fields)-set(['CAT_1','CAT_2', 'WEEK', 'RANK']))\n",
      "\n",
      "    added_skus =[]\n",
      "\n",
      "    for key, group in df.groupby('PRODUCT_SKU'):\n",
      "        # find categories (#TODO this is slow\n",
      "        category = db.categories.find({'name': group.iloc[0]['CAT_1']})[0]\n",
      "        sub_category = [x for x in category['sub_categories'] if x['name'] == group.iloc[0]['CAT_2']][0]\n",
      "        \n",
      "\n",
      "        # add non weekly fields\n",
      "        # TODO WEEK must be of format YYYYMM\n",
      "        data = group.sort(columns=['WEEK'], ascending=False)[non_weekly_fields].iloc[0] # Get most recent values\n",
      "        data = data.rename(dict(((key, key.lower()) for key in data.keys()))) # to lower case for db\n",
      "        data = dict(data)\n",
      "        data['category_id'] = category['_id']\n",
      "        data['sub_category_id'] = sub_category['_id'] \n",
      "        weekly_data = {}\n",
      "        \n",
      "\n",
      "        # now add weekly data\n",
      "        \n",
      "        # TODO: slow\n",
      "        for i, row in group[weekly_fields].iterrows():\n",
      "            row = row.rename(dict(((key, key.lower()) for key in row.keys()))) # to lower case for db\n",
      "            row_dict = dict(row)\n",
      "            row_dict['_id'] = ObjectId()\n",
      "            weekly_data['2015{0:02d}'.format(int(row['week']))] = row_dict\n",
      "            \n",
      "        # add last, 2last and 4last\n",
      "        \n",
      "        \n",
      "        \n",
      "        \n",
      "        \n",
      "        def sum_dicts(weekly_data, week_range):\n",
      "            from operator import itemgetter\n",
      "            current_week = datetime.datetime.utcnow().isocalendar()[1]\n",
      "            d = [weekly_data.get('2015{0:02d}'.format(current_week-i)) \n",
      "                 for i in range(1,week_range+1) \n",
      "                 if weekly_data.get('2015{0:02d}'.format(current_week-i))]\n",
      "            if d:\n",
      "                return {k:sum(map(itemgetter(k), d)) for k in d[0] if k != '_id'}\n",
      "            else:\n",
      "                return {}\n",
      "        # TODO improve country switches. that means 2015week01-1 is not 201500 but 201452\n",
      "        # TODO dont sum all. apply exceptions for         'STOCK_END_WEEK','STOCK_START_WEEK',\n",
      "        data['last1'] = sum_dicts(weekly_data, 1)\n",
      "        data['last2'] = sum_dicts(weekly_data, 2)\n",
      "        data['last4'] = sum_dicts(weekly_data, 4)\n",
      "\n",
      "        data['weekly'] = weekly_data\n",
      "        \n",
      "        added_skus.append(db.skus.insert(data))\n",
      "    return added_skus\n",
      "%time x=add_skus(df)"
     ],
     "language": "python",
     "metadata": {},
     "outputs": [
      {
       "output_type": "stream",
       "stream": "stdout",
       "text": [
        "CPU times: user 14.4 s, sys: 158 ms, total: 14.6 s\n",
        "Wall time: 16.4 s\n"
       ]
      }
     ],
     "prompt_number": 6
    },
    {
     "cell_type": "code",
     "collapsed": false,
     "input": [
      "type(y)\n"
     ],
     "language": "python",
     "metadata": {},
     "outputs": [
      {
       "metadata": {},
       "output_type": "pyout",
       "prompt_number": 7,
       "text": [
        "NoneType"
       ]
      }
     ],
     "prompt_number": 7
    },
    {
     "cell_type": "code",
     "collapsed": false,
     "input": [],
     "language": "python",
     "metadata": {},
     "outputs": [],
     "prompt_number": 7
    }
   ],
   "metadata": {}
  }
 ]
}