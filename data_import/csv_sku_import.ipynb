{
 "metadata": {
  "name": "",
  "signature": "sha256:df8eceadedd08114af8677ca56ebdac9b5640869b33eba879417c72a6bdbff7a"
 },
 "nbformat": 3,
 "nbformat_minor": 0,
 "worksheets": [
  {
   "cells": [
    {
     "cell_type": "code",
     "collapsed": false,
     "input": [
      "#!/usr/bin/env python3\n",
      "\n",
      "import argparse\n",
      "import pandas as pd\n",
      "import pymongo\n",
      "from bson import ObjectId\n",
      "import numpy as np\n",
      "\n",
      "# first  do arguments\n",
      "parser = argparse.ArgumentParser(description='Import CSV file to MongoDB')\n",
      "parser.add_argument('inputfile', type=str, nargs=1, help='the csv file to import')\n",
      "parser.add_argument('--mongodb', type=str, default='mongodb://localhost/', help='URI string for the MongoDB connection')\n",
      "parser.add_argument('--separator', type=str, help='The separator in the CSV file', default=';')\n",
      "# TODO: add separator\n",
      "args = parser.parse_args(['20150128_kpitable.csv'])"
     ],
     "language": "python",
     "metadata": {},
     "outputs": [],
     "prompt_number": 1
    },
    {
     "cell_type": "code",
     "collapsed": false,
     "input": [
      "# structure:\n",
      "\n",
      "\n",
      "#category: {\n",
      "#    revenue:\n",
      "#    name:\n",
      "#    subCategories: [{},{},{}]\n",
      " #   _id:\n",
      "#}\n",
      "    \n",
      "#skus: {\n",
      "#    name:\n",
      "#    revenue:\n",
      "#    _id:\n",
      "#    info:\n",
      "    \n",
      "    \n",
      "#}\n",
      "\n",
      "\n",
      "\n",
      "\n",
      "mongo_client = pymongo.MongoClient(args.mongodb)\n",
      "db = mongo_client['top10-dev']\n",
      "\n",
      "\n",
      "\n",
      "df = pd.read_csv(args.inputfile[0], sep=args.separator)"
     ],
     "language": "python",
     "metadata": {},
     "outputs": [],
     "prompt_number": 2
    },
    {
     "cell_type": "code",
     "collapsed": false,
     "input": [
      "# delete all\n",
      "if True:\n",
      "    db.categories.remove()\n",
      "    db.skus.remove()"
     ],
     "language": "python",
     "metadata": {},
     "outputs": [],
     "prompt_number": 3
    },
    {
     "cell_type": "code",
     "collapsed": false,
     "input": [
      "# insert categories\n",
      "cats = df[['CAT_1', 'CAT_2']].drop_duplicates()\n",
      "for key, group in cats.groupby(by='CAT_1'):\n",
      "    # TODO add key to CAT1\n",
      "\n",
      "    sub_categories = [{'name': sub_category, 'revenue': 0.0, '_id': ObjectId()} for sub_category in group.CAT_2]\n",
      "    db.categories.insert({'revenue': 0.0, 'name': key, 'subCategories': sub_categories})\n",
      "    "
     ],
     "language": "python",
     "metadata": {},
     "outputs": [],
     "prompt_number": 4
    },
    {
     "cell_type": "code",
     "collapsed": false,
     "input": [
      "def insert_sku(data):\n",
      "    # first find ids of \n",
      "    category = db.categories.find({'name': data['CAT_1']})[0]\n",
      "    sub_category = [x for x in category['subCategories'] if x['name'] == data['CAT_2']][0]\n",
      "    \n",
      "    data = data.rename(dict(((key, key.lower()) for key in data.keys())))\n",
      "    data = data[list(set(data.keys())-set(['cat_1','cat_2']))]\n",
      "    data = dict(data)\n",
      "    data['categoryId'] = category['_id']\n",
      "    data['subCategoryId'] = sub_category['_id']\n",
      "    return db.skus.insert(data)\n",
      "    \n",
      "x = df.apply(insert_sku, axis=1)\n"
     ],
     "language": "python",
     "metadata": {},
     "outputs": [],
     "prompt_number": 5
    }
   ],
   "metadata": {}
  }
 ]
}