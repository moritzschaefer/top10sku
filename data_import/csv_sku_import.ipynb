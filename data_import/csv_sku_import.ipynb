{
 "metadata": {
  "name": "",
  "signature": "sha256:79638f1a38fad6ff0e6fd10e57a5f068cb61b44facfeb4eceb970e3808b8637f"
 },
 "nbformat": 3,
 "nbformat_minor": 0,
 "worksheets": [
  {
   "cells": [
    {
     "cell_type": "code",
     "collapsed": false,
     "input": [
      "#!/usr/bin/env python3\n",
      "\n",
      "import argparse\n",
      "import pandas as pd\n",
      "import pymongo\n",
      "from bson import ObjectId\n",
      "import numpy as np\n",
      "\n",
      "# first  do arguments\n",
      "parser = argparse.ArgumentParser(description='Import CSV file to MongoDB')\n",
      "parser.add_argument('inputfile', type=str, nargs=1, help='the csv file to import')\n",
      "parser.add_argument('--mongodb', type=str, default='mongodb://localhost/', help='URI string for the MongoDB connection')\n",
      "parser.add_argument('--separator', type=str, help='The separator in the CSV file', default=';')\n",
      "# TODO: add separator\n",
      "args = parser.parse_args(['20150128_kpitable.csv'])"
     ],
     "language": "python",
     "metadata": {},
     "outputs": [],
     "prompt_number": 1
    },
    {
     "cell_type": "code",
     "collapsed": false,
     "input": [
      "# structure:\n",
      "\n",
      "\n",
      "#category: {\n",
      "#    revenue:\n",
      "#    name:\n",
      "#    subCategories: [{},{},{}]\n",
      " #   _id:\n",
      "#}\n",
      "    \n",
      "#skus: {\n",
      "#    name:\n",
      "#    revenue:\n",
      "#    _id:\n",
      "#    info:\n",
      "    \n",
      "    \n",
      "#}\n",
      "\n",
      "\n",
      "\n",
      "\n",
      "mongo_client = pymongo.MongoClient(args.mongodb)\n",
      "db = mongo_client['top10-dev']\n",
      "\n",
      "\n",
      "\n",
      "df = pd.read_csv(args.inputfile[0], sep=args.separator)"
     ],
     "language": "python",
     "metadata": {},
     "outputs": [],
     "prompt_number": 2
    },
    {
     "cell_type": "code",
     "collapsed": false,
     "input": [
      "# delete all\n",
      "if True:\n",
      "    db.categories.remove()\n",
      "    db.skus.remove()"
     ],
     "language": "python",
     "metadata": {},
     "outputs": [],
     "prompt_number": 3
    },
    {
     "cell_type": "code",
     "collapsed": false,
     "input": [
      "# insert categories\n",
      "cats = df[['CAT_1', 'CAT_2']].drop_duplicates()\n",
      "for key, group in cats.groupby(by='CAT_1'):\n",
      "    # TODO add key to CAT1\n",
      "\n",
      "    sub_categories = [{'name': sub_category, 'revenue': 0.0, '_id': ObjectId()} for sub_category in group.CAT_2]\n",
      "    db.categories.insert({'revenue': 0.0, 'name': key, 'subCategories': sub_categories})\n",
      "    "
     ],
     "language": "python",
     "metadata": {},
     "outputs": [],
     "prompt_number": 4
    },
    {
     "cell_type": "code",
     "collapsed": false,
     "input": [
      "def insert_sku(data):\n",
      "    # first find ids of \n",
      "    category = db.categories.find({'name': data['CAT_1']})[0]\n",
      "    sub_category = [x for x in category['subCategories'] if x['name'] == data['CAT_2']][0]\n",
      "    \n",
      "    data = data.rename(dict(((key, key.lower()) for key in data.keys())))\n",
      "    data = data[list(set(data.keys())-set(['cat_1','cat_2']))]\n",
      "    data = dict(data)\n",
      "    data['categoryId'] = category['_id']\n",
      "    data['subCategoryId'] = sub_category['_id']\n",
      "    return db.skus.insert(data)\n",
      "    \n",
      "x = df.apply(insert_sku, axis=1)\n"
     ],
     "language": "python",
     "metadata": {},
     "outputs": [],
     "prompt_number": 5
    },
    {
     "cell_type": "code",
     "collapsed": false,
     "input": [
      "x"
     ],
     "language": "python",
     "metadata": {},
     "outputs": [
      {
       "metadata": {},
       "output_type": "pyout",
       "prompt_number": 7,
       "text": [
        "0     54d37ba16db89674cc8feaa5\n",
        "1     54d37ba16db89674cc8feaa6\n",
        "2     54d37ba16db89674cc8feaa7\n",
        "3     54d37ba16db89674cc8feaa8\n",
        "4     54d37ba16db89674cc8feaa9\n",
        "5     54d37ba16db89674cc8feaaa\n",
        "6     54d37ba16db89674cc8feaab\n",
        "7     54d37ba16db89674cc8feaac\n",
        "8     54d37ba16db89674cc8feaad\n",
        "9     54d37ba16db89674cc8feaae\n",
        "10    54d37ba16db89674cc8feaaf\n",
        "11    54d37ba16db89674cc8feab0\n",
        "12    54d37ba16db89674cc8feab1\n",
        "13    54d37ba16db89674cc8feab2\n",
        "14    54d37ba16db89674cc8feab3\n",
        "...\n",
        "85    54d37ba16db89674cc8feafa\n",
        "86    54d37ba16db89674cc8feafb\n",
        "87    54d37ba16db89674cc8feafc\n",
        "88    54d37ba16db89674cc8feafd\n",
        "89    54d37ba16db89674cc8feafe\n",
        "90    54d37ba16db89674cc8feaff\n",
        "91    54d37ba16db89674cc8feb00\n",
        "92    54d37ba16db89674cc8feb01\n",
        "93    54d37ba16db89674cc8feb02\n",
        "94    54d37ba16db89674cc8feb03\n",
        "95    54d37ba16db89674cc8feb04\n",
        "96    54d37ba16db89674cc8feb05\n",
        "97    54d37ba16db89674cc8feb06\n",
        "98    54d37ba16db89674cc8feb07\n",
        "99    54d37ba16db89674cc8feb08\n",
        "Length: 100, dtype: object"
       ]
      }
     ],
     "prompt_number": 7
    },
    {
     "cell_type": "code",
     "collapsed": false,
     "input": [],
     "language": "python",
     "metadata": {},
     "outputs": []
    }
   ],
   "metadata": {}
  }
 ]
}