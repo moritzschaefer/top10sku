{
 "metadata": {
  "name": "",
  "signature": "sha256:40da6144a4079253ec75ae3befb72c968ba98b2ab6f494d48d409d7c780bc501"
 },
 "nbformat": 3,
 "nbformat_minor": 0,
 "worksheets": [
  {
   "cells": [
    {
     "cell_type": "code",
     "collapsed": false,
     "input": [
      "#!/usr/bin/env python3\n",
      "\n",
      "import argparse\n",
      "import pandas as pd\n",
      "import pymongo\n",
      "from bson import ObjectId\n",
      "import numpy as np\n",
      "\n",
      "# first  do arguments\n",
      "parser = argparse.ArgumentParser(description='Import CSV file to MongoDB')\n",
      "parser.add_argument('inputfile', type=str, nargs=1, help='the csv file to import')\n",
      "parser.add_argument('--mongodb', type=str, default='mongodb://localhost/', help='URI string for the MongoDB connection')\n",
      "parser.add_argument('--separator', type=str, help='The separator in the CSV file', default=';')\n",
      "# TODO: add separator\n",
      "args = parser.parse_args(['20150128_kpitable.csv'])"
     ],
     "language": "python",
     "metadata": {},
     "outputs": [],
     "prompt_number": 24
    },
    {
     "cell_type": "code",
     "collapsed": false,
     "input": [
      "# structure:\n",
      "\n",
      "\n",
      "#category: {\n",
      "#    revenue:\n",
      "#    name:\n",
      "#    sub_categories: [{},{},{}]\n",
      " #   _id:\n",
      "#}\n",
      "    \n",
      "#skus: {\n",
      "#    name:\n",
      "#    revenue:\n",
      "#    _id:\n",
      "#    info:\n",
      "    \n",
      "    \n",
      "#}\n",
      "\n",
      "\n",
      "\n",
      "\n",
      "mongo_client = pymongo.MongoClient(args.mongodb)\n",
      "db = mongo_client['top10-dev']\n",
      "\n",
      "\n",
      "\n",
      "df = pd.read_csv(args.inputfile[0], sep=args.separator)"
     ],
     "language": "python",
     "metadata": {},
     "outputs": [],
     "prompt_number": 39
    },
    {
     "cell_type": "code",
     "collapsed": false,
     "input": [
      "# insert categories\n",
      "cats = df[['CAT_1', 'CAT_2']].drop_duplicates()\n",
      "for key, group in cats.groupby(by='CAT_1'):\n",
      "    # TODO add key to CAT1\n",
      "\n",
      "    sub_categories = [{'name': sub_category, 'revenue': 0.0, '_id': ObjectId()} for sub_category in group.CAT_2]\n",
      "    db.category.insert({'revenue': 0.0, 'name': key, 'sub_categories': sub_categories})\n",
      "    "
     ],
     "language": "python",
     "metadata": {},
     "outputs": [],
     "prompt_number": 56
    },
    {
     "cell_type": "code",
     "collapsed": false,
     "input": [
      "def insert_sku(data):\n",
      "    # first find ids of \n",
      "    category = db.category.find({'name': data['CAT_1']})[0]\n",
      "    sub_category = [x for x in category['sub_categories'] if x['name'] == data['CAT_2']][0]\n",
      "    \n",
      "    data = data.rename(dict(((key, key.lower()) for key in data.keys())))\n",
      "    data = data[list(set(data.keys())-set(['cat_1','cat_2']))]\n",
      "    data = dict(data)\n",
      "    data['category_id'] = category['_id']\n",
      "    data['sub_category_id'] = sub_category['_id']\n",
      "    return db.skus.insert(data)\n",
      "    \n",
      "x = df.apply(insert_sku, axis=1)\n"
     ],
     "language": "python",
     "metadata": {},
     "outputs": [
      {
       "metadata": {},
       "output_type": "pyout",
       "prompt_number": 135,
       "text": [
        "0     54ceb5096db8966b01460091\n",
        "1     54ceb5096db8966b01460092\n",
        "2     54ceb5096db8966b01460093\n",
        "3     54ceb5096db8966b01460094\n",
        "4     54ceb5096db8966b01460095\n",
        "5     54ceb5096db8966b01460096\n",
        "6     54ceb5096db8966b01460097\n",
        "7     54ceb5096db8966b01460098\n",
        "8     54ceb5096db8966b01460099\n",
        "9     54ceb5096db8966b0146009a\n",
        "10    54ceb5096db8966b0146009b\n",
        "11    54ceb5096db8966b0146009c\n",
        "12    54ceb5096db8966b0146009d\n",
        "13    54ceb5096db8966b0146009e\n",
        "14    54ceb5096db8966b0146009f\n",
        "...\n",
        "85    54ceb5096db8966b014600e6\n",
        "86    54ceb5096db8966b014600e7\n",
        "87    54ceb5096db8966b014600e8\n",
        "88    54ceb5096db8966b014600e9\n",
        "89    54ceb5096db8966b014600ea\n",
        "90    54ceb5096db8966b014600eb\n",
        "91    54ceb5096db8966b014600ec\n",
        "92    54ceb5096db8966b014600ed\n",
        "93    54ceb5096db8966b014600ee\n",
        "94    54ceb5096db8966b014600ef\n",
        "95    54ceb5096db8966b014600f0\n",
        "96    54ceb5096db8966b014600f1\n",
        "97    54ceb5096db8966b014600f2\n",
        "98    54ceb5096db8966b014600f3\n",
        "99    54ceb5096db8966b014600f4\n",
        "Length: 100, dtype: object"
       ]
      }
     ],
     "prompt_number": 135
    }
   ],
   "metadata": {}
  }
 ]
}